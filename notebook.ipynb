{
 "cells": [
  {
   "cell_type": "markdown",
   "metadata": {},
   "source": [
    "# ferfereh dev notebook"
   ]
  },
  {
   "cell_type": "code",
   "execution_count": 51,
   "metadata": {},
   "outputs": [],
   "source": [
    "# !pip3 install exif"
   ]
  },
  {
   "cell_type": "code",
   "execution_count": 8,
   "metadata": {},
   "outputs": [
    {
     "name": "stderr",
     "output_type": "stream",
     "text": [
      "Found credentials in shared credentials file: ~/.aws/credentials\n",
      "ferfereh-1.38.1\n",
      "using abcli-7.2231.1-main\n",
      "2023-02-25-17-26-37-89522 - built on 25 February 2023, 17:33:27\n"
     ]
    }
   ],
   "source": [
    "import os\n",
    "import abcli\n",
    "from abcli import file\n",
    "from abcli import string\n",
    "from abcli.modules import objects\n",
    "from ferfereh import NAME, VERSION\n",
    "import abcli.logging\n",
    "import logging\n",
    "\n",
    "logger = logging.getLogger()\n",
    "\n",
    "logger.info(f\"{NAME}-{VERSION}\")\n",
    "logger.info(f\"using {abcli.fullname()}\")\n",
    "logger.info(f\"{os.environ.get('abcli_object_name')} - built on {string.pretty_date()}\")"
   ]
  },
  {
   "cell_type": "markdown",
   "metadata": {},
   "source": [
    "---"
   ]
  },
  {
   "cell_type": "code",
   "execution_count": 5,
   "metadata": {},
   "outputs": [],
   "source": [
    "object_id = os.getenv(\"FERFEREH_IMAGE_OBJECT\")\n",
    "assert object_id"
   ]
  },
  {
   "cell_type": "code",
   "execution_count": 15,
   "metadata": {},
   "outputs": [
    {
     "name": "stderr",
     "output_type": "stream",
     "text": [
      "8 image(s) found.\n"
     ]
    }
   ],
   "source": [
    "list_of_images = [filename for filename in objects.list_of_files(object_id) if file.extension(filename) in [\"jpg\"]]\n",
    "logger.info(f\"{len(list_of_images)} image(s) found.\")"
   ]
  },
  {
   "cell_type": "code",
   "execution_count": 41,
   "metadata": {},
   "outputs": [],
   "source": [
    "def decimal_coords(coords, ref):\n",
    "    decimal_degrees = coords[0] + coords[1] / 60 + coords[2] / 3600\n",
    "    if ref == \"S\" or ref == \"W\":\n",
    "        decimal_degrees = -decimal_degrees\n",
    "    return decimal_degrees"
   ]
  },
  {
   "cell_type": "code",
   "execution_count": 52,
   "metadata": {},
   "outputs": [],
   "source": [
    "from exif import Image\n",
    "\n",
    "def image_coordinates(image_path):\n",
    "    with open(image_path, 'rb') as src:\n",
    "        img = Image(src)\n",
    "    if img.has_exif:\n",
    "        try:\n",
    "            img.gps_longitude\n",
    "            coords = (decimal_coords(img.gps_latitude,\n",
    "                      img.gps_latitude_ref),\n",
    "                      decimal_coords(img.gps_longitude,\n",
    "                      img.gps_longitude_ref))\n",
    "        except AttributeError:\n",
    "            print('No Coordinates')\n",
    "    else:\n",
    "        print('The Image has no EXIF information')\n",
    "    print(f\"Image {src.name}, OS Version:{img.get('software', 'Not Known')} ------\")\n",
    "    print(f\"Was taken: {img.datetime_original}, and has coordinates:{coords}\")"
   ]
  },
  {
   "cell_type": "code",
   "execution_count": 53,
   "metadata": {},
   "outputs": [
    {
     "name": "stdout",
     "output_type": "stream",
     "text": [
      "Image /Users/kamangir/storage/abcli/ferfereh-images-v1/20220612_214906.jpg, OS Version:G986U1UES2EVE1 ------\n",
      "Was taken: 2022:06:12 21:49:07, and has coordinates:(43.6439712, -79.36404199972222)\n"
     ]
    }
   ],
   "source": [
    "image_coordinates(list_of_images[0])"
   ]
  },
  {
   "cell_type": "markdown",
   "metadata": {},
   "source": [
    "---"
   ]
  },
  {
   "cell_type": "code",
   "execution_count": 3,
   "metadata": {},
   "outputs": [],
   "source": [
    "# END"
   ]
  }
 ],
 "metadata": {
  "kernelspec": {
   "display_name": "Python 3 (ipykernel)",
   "language": "python",
   "name": "python3"
  },
  "language_info": {
   "codemirror_mode": {
    "name": "ipython",
    "version": 3
   },
   "file_extension": ".py",
   "mimetype": "text/x-python",
   "name": "python",
   "nbconvert_exporter": "python",
   "pygments_lexer": "ipython3",
   "version": "3.9.15"
  },
  "toc": {
   "base_numbering": 1,
   "nav_menu": {},
   "number_sections": true,
   "sideBar": true,
   "skip_h1_title": false,
   "title_cell": "Table of Contents",
   "title_sidebar": "Contents",
   "toc_cell": false,
   "toc_position": {},
   "toc_section_display": true,
   "toc_window_display": false
  }
 },
 "nbformat": 4,
 "nbformat_minor": 2
}
