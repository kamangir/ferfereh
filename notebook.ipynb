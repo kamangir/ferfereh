{
 "cells": [
  {
   "cell_type": "markdown",
   "metadata": {},
   "source": [
    "# ferfereh dev notebook"
   ]
  },
  {
   "cell_type": "code",
   "execution_count": 8,
   "metadata": {},
   "outputs": [
    {
     "name": "stderr",
     "output_type": "stream",
     "text": [
      "Found credentials in shared credentials file: ~/.aws/credentials\n",
      "ferfereh-1.38.1\n",
      "using abcli-7.2231.1-main\n",
      "2023-02-25-17-26-37-89522 - built on 25 February 2023, 17:33:27\n"
     ]
    }
   ],
   "source": [
    "import os\n",
    "import abcli\n",
    "from abcli import file\n",
    "from abcli import string\n",
    "from abcli.modules import objects\n",
    "from ferfereh import NAME, VERSION\n",
    "import abcli.logging\n",
    "import logging\n",
    "\n",
    "logger = logging.getLogger()\n",
    "\n",
    "logger.info(f\"{NAME}-{VERSION}\")\n",
    "logger.info(f\"using {abcli.fullname()}\")\n",
    "logger.info(f\"{os.environ.get('abcli_object_name')} - built on {string.pretty_date()}\")"
   ]
  },
  {
   "cell_type": "markdown",
   "metadata": {},
   "source": [
    "---"
   ]
  },
  {
   "cell_type": "code",
   "execution_count": 5,
   "metadata": {},
   "outputs": [],
   "source": [
    "object_id = os.getenv(\"FERFEREH_IMAGE_OBJECT\")\n",
    "assert object_id"
   ]
  },
  {
   "cell_type": "code",
   "execution_count": 15,
   "metadata": {},
   "outputs": [
    {
     "name": "stderr",
     "output_type": "stream",
     "text": [
      "8 image(s) found.\n"
     ]
    }
   ],
   "source": [
    "list_of_images = [filename for filename in objects.list_of_files(object_id) if file.extension(filename) in [\"jpg\"]]\n",
    "logger.info(f\"{len(list_of_images)} image(s) found.\")"
   ]
  },
  {
   "cell_type": "code",
   "execution_count": 39,
   "metadata": {},
   "outputs": [
    {
     "name": "stdout",
     "output_type": "stream",
     "text": [
      "exif_data:{256: 4032, 257: 1816, 34853: {1: 'N', 2: (43.0, 38.0, 38.29632), 3: 'W', 4: (79.0, 21.0, 50.551199), 5: 0, 6: 48.0}, 296: 2, 34665: 240, 271: 'samsung', 272: 'SM-G986U1', 305: 'G986U1UES2EVE1', 274: 6, 306: '2022:06:12 21:49:07', 531: 1, 282: 72.0, 283: 72.0, 36864: b'0220', 37377: 4.09, 37378: 1.69, 36867: '2022:06:12 21:49:07', 36868: '2022:06:12 21:49:07', 37380: 0.0, 37381: 1.69, 37383: 3, 40961: 1, 37385: 0, 37386: 5.4, 40962: 4032, 40963: 1816, 41988: 1.0, 41989: 26, 41990: 0, 36880: '-04:00', 36881: '-04:00', 33434: 0.058823529411764705, 33437: 1.8, 42016: 'R12QSMF00SM', 34850: 2, 34855: 1250, 41986: 0, 41987: 0}\n",
      "{'GPSLatitudeRef': 'N', 'GPSLatitude': (43.0, 38.0, 38.29632), 'GPSLongitudeRef': 'W', 'GPSLongitude': (79.0, 21.0, 50.551199), 'GPSAltitudeRef': 0, 'GPSAltitude': 48.0}\n"
     ]
    },
    {
     "ename": "TypeError",
     "evalue": "'IFDRational' object is not subscriptable",
     "output_type": "error",
     "traceback": [
      "\u001b[0;31m---------------------------------------------------------------------------\u001b[0m",
      "\u001b[0;31mTypeError\u001b[0m                                 Traceback (most recent call last)",
      "Cell \u001b[0;32mIn[39], line 29\u001b[0m\n\u001b[1;32m     27\u001b[0m \u001b[38;5;66;03m# Extract latitude and longitude from GPSInfo\u001b[39;00m\n\u001b[1;32m     28\u001b[0m \u001b[38;5;28;01mif\u001b[39;00m \u001b[38;5;124m'\u001b[39m\u001b[38;5;124mGPSLatitude\u001b[39m\u001b[38;5;124m'\u001b[39m \u001b[38;5;129;01min\u001b[39;00m gps_info_dict \u001b[38;5;129;01mand\u001b[39;00m \u001b[38;5;124m'\u001b[39m\u001b[38;5;124mGPSLongitude\u001b[39m\u001b[38;5;124m'\u001b[39m \u001b[38;5;129;01min\u001b[39;00m gps_info_dict:\n\u001b[0;32m---> 29\u001b[0m     lat \u001b[38;5;241m=\u001b[39m \u001b[43mconvert_to_degrees\u001b[49m\u001b[43m(\u001b[49m\u001b[43mgps_info_dict\u001b[49m\u001b[43m[\u001b[49m\u001b[38;5;124;43m'\u001b[39;49m\u001b[38;5;124;43mGPSLatitude\u001b[39;49m\u001b[38;5;124;43m'\u001b[39;49m\u001b[43m]\u001b[49m\u001b[43m)\u001b[49m\n\u001b[1;32m     30\u001b[0m     lat_ref \u001b[38;5;241m=\u001b[39m gps_info_dict\u001b[38;5;241m.\u001b[39mget(\u001b[38;5;124m'\u001b[39m\u001b[38;5;124mGPSLatitudeRef\u001b[39m\u001b[38;5;124m'\u001b[39m, \u001b[38;5;124m'\u001b[39m\u001b[38;5;124mN\u001b[39m\u001b[38;5;124m'\u001b[39m)\n\u001b[1;32m     31\u001b[0m     \u001b[38;5;28;01mif\u001b[39;00m lat_ref \u001b[38;5;241m==\u001b[39m \u001b[38;5;124m'\u001b[39m\u001b[38;5;124mS\u001b[39m\u001b[38;5;124m'\u001b[39m:\n",
      "Cell \u001b[0;32mIn[36], line 43\u001b[0m, in \u001b[0;36mconvert_to_degrees\u001b[0;34m(coord)\u001b[0m\n\u001b[1;32m     42\u001b[0m \u001b[38;5;28;01mdef\u001b[39;00m \u001b[38;5;21mconvert_to_degrees\u001b[39m(coord):\n\u001b[0;32m---> 43\u001b[0m     degrees \u001b[38;5;241m=\u001b[39m \u001b[43mcoord\u001b[49m\u001b[43m[\u001b[49m\u001b[38;5;241;43m0\u001b[39;49m\u001b[43m]\u001b[49m\u001b[43m[\u001b[49m\u001b[38;5;241;43m0\u001b[39;49m\u001b[43m]\u001b[49m \u001b[38;5;241m/\u001b[39m coord[\u001b[38;5;241m0\u001b[39m][\u001b[38;5;241m1\u001b[39m]\n\u001b[1;32m     44\u001b[0m     minutes \u001b[38;5;241m=\u001b[39m coord[\u001b[38;5;241m1\u001b[39m][\u001b[38;5;241m0\u001b[39m] \u001b[38;5;241m/\u001b[39m coord[\u001b[38;5;241m1\u001b[39m][\u001b[38;5;241m1\u001b[39m]\n\u001b[1;32m     45\u001b[0m     seconds \u001b[38;5;241m=\u001b[39m coord[\u001b[38;5;241m2\u001b[39m][\u001b[38;5;241m0\u001b[39m] \u001b[38;5;241m/\u001b[39m coord[\u001b[38;5;241m2\u001b[39m][\u001b[38;5;241m1\u001b[39m]\n",
      "\u001b[0;31mTypeError\u001b[0m: 'IFDRational' object is not subscriptable"
     ]
    }
   ],
   "source": [
    "from PIL import Image\n",
    "from PIL.ExifTags import TAGS, GPSTAGS\n",
    "\n",
    "filename = list_of_images[0]\n",
    "\n",
    "with Image.open(filename) as image:\n",
    "    # Extract EXIF metadata\n",
    "    exif_data = image._getexif()\n",
    "\n",
    "    print(f\"exif_data:{exif_data}\")\n",
    "\n",
    "    # Check if GPSInfo is available\n",
    "    if not exif_data or not 34853 in exif_data:\n",
    "        print(\"34853 not found.\")\n",
    "    else:\n",
    "        # Get GPSInfo\n",
    "        gps_info = exif_data[34853]\n",
    "\n",
    "        # Map GPSInfo tags to human-readable names\n",
    "        gps_info_dict = {}\n",
    "        for tag, value in gps_info.items():\n",
    "            decoded_tag = GPSTAGS.get(tag, tag)\n",
    "            gps_info_dict[decoded_tag] = value\n",
    "\n",
    "        print(gps_info_dict)\n",
    "\n",
    "        # Extract latitude and longitude from GPSInfo\n",
    "        if 'GPSLatitude' in gps_info_dict and 'GPSLongitude' in gps_info_dict:\n",
    "            lat = convert_to_degrees(gps_info_dict['GPSLatitude'])\n",
    "            lat_ref = gps_info_dict.get('GPSLatitudeRef', 'N')\n",
    "            if lat_ref == 'S':\n",
    "                lat = -lat\n",
    "            lon = convert_to_degrees(gps_info_dict['GPSLongitude'])\n",
    "            lon_ref = gps_info_dict.get('GPSLongitudeRef', 'E')\n",
    "            if lon_ref == 'W':\n",
    "                lon = -lon\n",
    "            \n",
    "            print(f\"lat:{lat}, lon:{lon}\")\n",
    "        else:\n",
    "            print(\"not found.\")\n",
    "\n",
    "def convert_to_degrees(coord):\n",
    "    degrees = coord[0][0] / coord[0][1]\n",
    "    minutes = coord[1][0] / coord[1][1]\n",
    "    seconds = coord[2][0] / coord[2][1]\n",
    "    return degrees + (minutes / 60.0) + (seconds / 3600.0)"
   ]
  },
  {
   "cell_type": "code",
   "execution_count": 38,
   "metadata": {},
   "outputs": [
    {
     "data": {
      "text/plain": [
       "{0: 'GPSVersionID',\n",
       " 1: 'GPSLatitudeRef',\n",
       " 2: 'GPSLatitude',\n",
       " 3: 'GPSLongitudeRef',\n",
       " 4: 'GPSLongitude',\n",
       " 5: 'GPSAltitudeRef',\n",
       " 6: 'GPSAltitude',\n",
       " 7: 'GPSTimeStamp',\n",
       " 8: 'GPSSatellites',\n",
       " 9: 'GPSStatus',\n",
       " 10: 'GPSMeasureMode',\n",
       " 11: 'GPSDOP',\n",
       " 12: 'GPSSpeedRef',\n",
       " 13: 'GPSSpeed',\n",
       " 14: 'GPSTrackRef',\n",
       " 15: 'GPSTrack',\n",
       " 16: 'GPSImgDirectionRef',\n",
       " 17: 'GPSImgDirection',\n",
       " 18: 'GPSMapDatum',\n",
       " 19: 'GPSDestLatitudeRef',\n",
       " 20: 'GPSDestLatitude',\n",
       " 21: 'GPSDestLongitudeRef',\n",
       " 22: 'GPSDestLongitude',\n",
       " 23: 'GPSDestBearingRef',\n",
       " 24: 'GPSDestBearing',\n",
       " 25: 'GPSDestDistanceRef',\n",
       " 26: 'GPSDestDistance',\n",
       " 27: 'GPSProcessingMethod',\n",
       " 28: 'GPSAreaInformation',\n",
       " 29: 'GPSDateStamp',\n",
       " 30: 'GPSDifferential',\n",
       " 31: 'GPSHPositioningError'}"
      ]
     },
     "execution_count": 38,
     "metadata": {},
     "output_type": "execute_result"
    }
   ],
   "source": [
    "GPSTAGS"
   ]
  },
  {
   "cell_type": "code",
   "execution_count": 24,
   "metadata": {},
   "outputs": [
    {
     "data": {
      "text/plain": [
       "34853"
      ]
     },
     "execution_count": 24,
     "metadata": {},
     "output_type": "execute_result"
    }
   ],
   "source": [
    "0x8825"
   ]
  },
  {
   "cell_type": "markdown",
   "metadata": {},
   "source": [
    "---"
   ]
  },
  {
   "cell_type": "code",
   "execution_count": 3,
   "metadata": {},
   "outputs": [],
   "source": [
    "# END"
   ]
  }
 ],
 "metadata": {
  "kernelspec": {
   "display_name": "Python 3 (ipykernel)",
   "language": "python",
   "name": "python3"
  },
  "language_info": {
   "codemirror_mode": {
    "name": "ipython",
    "version": 3
   },
   "file_extension": ".py",
   "mimetype": "text/x-python",
   "name": "python",
   "nbconvert_exporter": "python",
   "pygments_lexer": "ipython3",
   "version": "3.9.15"
  },
  "toc": {
   "base_numbering": 1,
   "nav_menu": {},
   "number_sections": true,
   "sideBar": true,
   "skip_h1_title": false,
   "title_cell": "Table of Contents",
   "title_sidebar": "Contents",
   "toc_cell": false,
   "toc_position": {},
   "toc_section_display": true,
   "toc_window_display": false
  }
 },
 "nbformat": 4,
 "nbformat_minor": 2
}
